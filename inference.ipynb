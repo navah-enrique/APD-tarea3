{
 "cells": [
  {
   "cell_type": "code",
   "execution_count": 5,
   "id": "e11cac9b",
   "metadata": {},
   "outputs": [],
   "source": [
    "#Importamos librerias\n",
    "import pandas as pd\n",
    "import joblib"
   ]
  },
  {
   "cell_type": "code",
   "execution_count": 4,
   "id": "8f9e28b8",
   "metadata": {},
   "outputs": [],
   "source": [
    "loaded_model = joblib.load('artifacts/model.joblib')\n",
    "loaded_scaler = joblib.load('artifacts/std.joblib')\n",
    "inference = pd.read_csv('data/clean_inference.csv')\n",
    "ids = pd.read_csv('data/raw_inference.csv')\n",
    "\n",
    "inf_std = loaded_scaler.transform(inference)\n",
    "inf_std = pd.DataFrame(inf_std, columns=inference.columns)\n",
    "pred_y = loaded_model.predict(inf_std)\n",
    "\n",
    "result = pd.DataFrame({'Id': ids['Id'], 'SalePrice': pred_y})\n",
    "result.to_csv('data/predictions.csv', index=False)"
   ]
  }
 ],
 "metadata": {
  "kernelspec": {
   "display_name": "Python 3 (ipykernel)",
   "language": "python",
   "name": "python3"
  },
  "language_info": {
   "codemirror_mode": {
    "name": "ipython",
    "version": 3
   },
   "file_extension": ".py",
   "mimetype": "text/x-python",
   "name": "python",
   "nbconvert_exporter": "python",
   "pygments_lexer": "ipython3",
   "version": "3.10.12"
  }
 },
 "nbformat": 4,
 "nbformat_minor": 5
}
